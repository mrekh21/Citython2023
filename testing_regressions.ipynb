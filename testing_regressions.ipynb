{
 "cells": [
  {
   "cell_type": "markdown",
   "source": [
    "# IMPORTS"
   ],
   "metadata": {
    "collapsed": false
   },
   "id": "5933e9f90eb56fc0"
  },
  {
   "cell_type": "code",
   "execution_count": 301,
   "id": "initial_id",
   "metadata": {
    "collapsed": true,
    "ExecuteTime": {
     "end_time": "2023-10-22T02:13:53.623688400Z",
     "start_time": "2023-10-22T02:13:53.600117200Z"
    }
   },
   "outputs": [],
   "source": [
    "import pandas as pd\n",
    "from sklearn.linear_model import LinearRegression\n",
    "from sklearn.pipeline import make_pipeline\n",
    "from sklearn.preprocessing import PolynomialFeatures\n",
    "import json\n",
    "import matplotlib.pyplot as plt\n",
    "import math"
   ]
  },
  {
   "cell_type": "markdown",
   "source": [
    "# DATA"
   ],
   "metadata": {
    "collapsed": false
   },
   "id": "a20161c1ba1e3ce3"
  },
  {
   "cell_type": "code",
   "execution_count": 302,
   "outputs": [],
   "source": [
    "data = {\n",
    "  \"Monday\": {\n",
    "    \"3\": {\n",
    "      \"1\": {\n",
    "        \"1\": [\n",
    "          {\"in\": 5, \"out\": 0, \"total\": 5},\n",
    "          {\"in\": 6, \"out\": 1, \"total\": 10},\n",
    "          {\"in\": 8, \"out\": 2, \"total\": 16}\n",
    "        ],\n",
    "        \"2\": [\n",
    "          {\"in\": 9, \"out\": 1, \"total\": 18},\n",
    "          {\"in\": 10, \"out\": 2, \"total\": 26},\n",
    "          {\"in\": 11, \"out\": 3, \"total\": 34}\n",
    "        ],\n",
    "        \"3\": [\n",
    "          {\"in\": 12, \"out\": 2, \"total\": 28},\n",
    "          {\"in\": 13, \"out\": 3, \"total\": 38},\n",
    "          {\"in\": 14, \"out\": 4, \"total\": 48}\n",
    "        ],\n",
    "        \"4\": [\n",
    "          {\"in\": 15, \"out\": 3, \"total\": 40},\n",
    "          {\"in\": 14, \"out\": 4, \"total\": 50},\n",
    "          {\"in\": 13, \"out\": 5, \"total\": 48}\n",
    "        ],\n",
    "        \"5\": [\n",
    "          {\"in\": 12, \"out\": 4, \"total\": 38},\n",
    "          {\"in\": 11, \"out\": 5, \"total\": 34},\n",
    "          {\"in\": 10, \"out\": 6, \"total\": 28}\n",
    "        ],\n",
    "        \"6\": [\n",
    "          {\"in\": 8, \"out\": 5, \"total\": 21},\n",
    "          {\"in\": 7, \"out\": 6, \"total\": 15},\n",
    "          {\"in\": 6, \"out\": 7, \"total\": 10}\n",
    "        ],\n",
    "        \"7\": [\n",
    "          {\"in\": 5, \"out\": 6, \"total\": 9},\n",
    "          {\"in\": 4, \"out\": 7, \"total\": 6},\n",
    "          {\"in\": 3, \"out\": 8, \"total\": 4}\n",
    "        ],\n",
    "        \"8\": [\n",
    "          {\"in\": 3, \"out\": 7, \"total\": 3},\n",
    "          {\"in\": 2, \"out\": 8, \"total\": 2},\n",
    "          {\"in\": 1, \"out\": 9, \"total\": 1}\n",
    "        ],\n",
    "        \"9\": [\n",
    "          {\"in\": 1, \"out\": 8, \"total\": 1},\n",
    "          {\"in\": 0, \"out\": 7, \"total\": 0},\n",
    "          {\"in\": 0, \"out\": 6, \"total\": 0}\n",
    "        ],\n",
    "        \"10\": [\n",
    "          {\"in\": 0, \"out\": 6, \"total\": 0},\n",
    "          {\"in\": 0, \"out\": 5, \"total\": 0},\n",
    "          {\"in\": 0, \"out\": 4, \"total\": 0}\n",
    "        ]\n",
    "      },\n",
    "      \"2\": {\n",
    "        \"1\": [\n",
    "          {\"in\": 3, \"out\": 0, \"total\": 3},\n",
    "          {\"in\": 4, \"out\": 1, \"total\": 6},\n",
    "          {\"in\": 6, \"out\": 2, \"total\": 10}\n",
    "        ],\n",
    "        \"2\": [\n",
    "          {\"in\": 8, \"out\": 1, \"total\": 15},\n",
    "          {\"in\": 9, \"out\": 2, \"total\": 22},\n",
    "          {\"in\": 10, \"out\": 3, \"total\": 29}\n",
    "        ],\n",
    "        \"3\": [\n",
    "          {\"in\": 11, \"out\": 2, \"total\": 28},\n",
    "          {\"in\": 12, \"out\": 3, \"total\": 37},\n",
    "          {\"in\": 13, \"out\": 4, \"total\": 46}\n",
    "        ],\n",
    "        \"4\": [\n",
    "          {\"in\": 14, \"out\": 3, \"total\": 45},\n",
    "          {\"in\": 13, \"out\": 4, \"total\": 54},\n",
    "          {\"in\": 12, \"out\": 5, \"total\": 51}\n",
    "        ],\n",
    "        \"5\": [\n",
    "          {\"in\": 11, \"out\": 4, \"total\": 49},\n",
    "          {\"in\": 10, \"out\": 5, \"total\": 44},\n",
    "          {\"in\": 9, \"out\": 6, \"total\": 37}\n",
    "        ],\n",
    "        \"6\": [\n",
    "          {\"in\": 8, \"out\": 5, \"total\": 30},\n",
    "          {\"in\": 7, \"out\": 6, \"total\": 23},\n",
    "          {\"in\": 6, \"out\": 7, \"total\": 17}\n",
    "        ],\n",
    "        \"7\": [\n",
    "          {\"in\": 5, \"out\": 6, \"total\": 14},\n",
    "          {\"in\": 4, \"out\": 7, \"total\": 10},\n",
    "          {\"in\": 3, \"out\": 8, \"total\": 7}\n",
    "        ],\n",
    "        \"8\": [\n",
    "          {\"in\": 3, \"out\": 7, \"total\": 5},\n",
    "          {\"in\": 2, \"out\": 8, \"total\": 3},\n",
    "          {\"in\": 1, \"out\": 9, \"total\": 2}\n",
    "        ],\n",
    "        \"9\": [\n",
    "          {\"in\": 1, \"out\": 8, \"total\": 2},\n",
    "          {\"in\": 0, \"out\": 7, \"total\": 1},\n",
    "          {\"in\": 0, \"out\": 6, \"total\": 1}\n",
    "        ],\n",
    "        \"10\": [\n",
    "          {\"in\": 0, \"out\": 6, \"total\": 1},\n",
    "          {\"in\": 0, \"out\": 5, \"total\": 0},\n",
    "          {\"in\": 0, \"out\": 4, \"total\": 0}\n",
    "        ]\n",
    "      }\n",
    "    }\n",
    "  }\n",
    "}\n",
    "\n"
   ],
   "metadata": {
    "collapsed": false,
    "ExecuteTime": {
     "end_time": "2023-10-22T02:13:54.369904900Z",
     "start_time": "2023-10-22T02:13:54.364679300Z"
    }
   },
   "id": "367b99f95df3c558"
  },
  {
   "cell_type": "markdown",
   "source": [
    "# PLOT FUNCTION"
   ],
   "metadata": {
    "collapsed": false
   },
   "id": "bbe1ba41873caba9"
  },
  {
   "cell_type": "code",
   "execution_count": 311,
   "outputs": [],
   "source": [
    "def plot_bus_stop_data(N_cycle: str, route_ID: str, day: str, data: dict, M: int):\n",
    "    bus_stops = []\n",
    "    totals = [[] for _ in range(M)]\n",
    "    \n",
    "    for bus_stop, cycles in data[day][route_ID][N_cycle].items():\n",
    "        bus_stops.append(int(bus_stop))\n",
    "        for week in range(M):\n",
    "            totals[week].append(cycles[week]['total'])\n",
    "\n",
    "    # Plotting the scatter plot\n",
    "    plt.figure(figsize=(10, 6))\n",
    "    \n",
    "    colors = ['blue', 'red', 'green', 'purple', 'orange', 'brown', 'pink', 'cyan', 'magenta', 'yellow']\n",
    "    for week in range(M):\n",
    "        plt.scatter(bus_stops, totals[week], color=colors[week % len(colors)], label=f'Week {week + 1}')\n",
    "    \n",
    "    plt.title(f'Total People vs. Bus Stops (Cycle {N_cycle} on {day})')\n",
    "    plt.xlabel('Bus Stop ID')\n",
    "    plt.ylabel('Total People')\n",
    "    plt.grid(True)\n",
    "    plt.xticks(bus_stops)\n",
    "    plt.yticks(range(0, 56, 5))\n",
    "    plt.tight_layout()\n",
    "    plt.legend()\n",
    "    plt.show()"
   ],
   "metadata": {
    "collapsed": false,
    "ExecuteTime": {
     "end_time": "2023-10-22T02:30:16.378013300Z",
     "start_time": "2023-10-22T02:30:16.347238200Z"
    }
   },
   "id": "f6f5dde55f8901a6"
  },
  {
   "cell_type": "code",
   "execution_count": 310,
   "outputs": [],
   "source": [
    "def plot_predicted_bus_stop_data(N_cycle: str, route_ID: str, day: str, data: dict):\n",
    "    bus_stops = []\n",
    "    totals = []\n",
    "    \n",
    "    for bus_stop, details in data[day][route_ID][N_cycle].items():\n",
    "        bus_stops.append(int(bus_stop))\n",
    "        totals.append(details['total'])\n",
    "\n",
    "    # Plotting the scatter plot\n",
    "    plt.figure(figsize=(10, 6))\n",
    "    \n",
    "    plt.scatter(bus_stops, totals, color='blue', label=f'{day}')\n",
    "    \n",
    "    plt.title(f'Total People vs. Bus Stops (Cycle {N_cycle} on {day})')\n",
    "    plt.xlabel('Bus Stop ID')\n",
    "    plt.ylabel('Total People')\n",
    "    plt.grid(True)\n",
    "    plt.xticks(bus_stops)\n",
    "    plt.yticks(range(0, 56, 5))\n",
    "    plt.tight_layout()\n",
    "    plt.legend()\n",
    "    plt.show()\n"
   ],
   "metadata": {
    "collapsed": false,
    "ExecuteTime": {
     "end_time": "2023-10-22T02:30:14.969883600Z",
     "start_time": "2023-10-22T02:30:14.964122700Z"
    }
   },
   "id": "60bbecf8985814b"
  },
  {
   "cell_type": "markdown",
   "source": [
    "# MODEL BUILDING"
   ],
   "metadata": {
    "collapsed": false
   },
   "id": "42ed254aaa934a9c"
  },
  {
   "cell_type": "code",
   "execution_count": 156,
   "outputs": [],
   "source": [
    "def predict_next_week(bus_stop_id, cycle, model):\n",
    "    return model.predict(pd.DataFrame({'bus_stop_id': [bus_stop_id], 'cycle': [cycle]}))[0]"
   ],
   "metadata": {
    "collapsed": false,
    "ExecuteTime": {
     "end_time": "2023-10-22T01:47:15.352118600Z",
     "start_time": "2023-10-22T01:47:15.335155700Z"
    }
   },
   "id": "beab7a4c93c7313f"
  },
  {
   "cell_type": "code",
   "execution_count": 314,
   "outputs": [],
   "source": [
    "def generate_model_outputs(N_cycle: str, route_ID: str, day: str, bus_stop_id: int, data: dict, M: int):\n",
    "    rows = []\n",
    "    for bus_stop, cycles in data[day][route_ID][N_cycle].items():\n",
    "        for week in range(M):\n",
    "            rows.append({'bus_stop_id': int(bus_stop), 'cycle': week+1, 'total': cycles[week]['total']})\n",
    "    \n",
    "    df = pd.DataFrame(rows)\n",
    "    df = df.sort_values(by = ['cycle', 'bus_stop_id'], ascending = True)\n",
    "    X = df[['bus_stop_id', 'cycle']]\n",
    "    y = df['total']\n",
    "\n",
    "\n",
    "    degree = 17\n",
    "    model = make_pipeline(PolynomialFeatures(degree), LinearRegression())\n",
    "    model.fit(X, y)\n",
    "    \n",
    "    ans = predict_next_week(bus_stop_id, N_cycle, model)\n",
    "    return math.ceil(ans) if ans > 0 else 0\n"
   ],
   "metadata": {
    "collapsed": false,
    "ExecuteTime": {
     "end_time": "2023-10-22T02:37:44.446395300Z",
     "start_time": "2023-10-22T02:37:44.414730800Z"
    }
   },
   "id": "53feec50783e1bb8"
  },
  {
   "cell_type": "markdown",
   "source": [
    "# TESTING"
   ],
   "metadata": {
    "collapsed": false
   },
   "id": "3e90a00c74116cd2"
  },
  {
   "cell_type": "code",
   "execution_count": 315,
   "outputs": [],
   "source": [
    "A = generate_model_outputs(N_cycle='2', route_ID='3', day = 'Monday', bus_stop_id=1, data=data, M = 3)"
   ],
   "metadata": {
    "collapsed": false,
    "ExecuteTime": {
     "end_time": "2023-10-22T02:37:46.097518300Z",
     "start_time": "2023-10-22T02:37:46.077190200Z"
    }
   },
   "id": "a1b46003b72bfbfa"
  },
  {
   "cell_type": "code",
   "execution_count": 316,
   "outputs": [
    {
     "data": {
      "text/plain": "11"
     },
     "execution_count": 316,
     "metadata": {},
     "output_type": "execute_result"
    }
   ],
   "source": [
    "A"
   ],
   "metadata": {
    "collapsed": false,
    "ExecuteTime": {
     "end_time": "2023-10-22T02:37:46.645036900Z",
     "start_time": "2023-10-22T02:37:46.644530Z"
    }
   },
   "id": "d1cbdd2909d97bb1"
  },
  {
   "cell_type": "markdown",
   "source": [
    "# GENERATING NEXT WEEK"
   ],
   "metadata": {
    "collapsed": false
   },
   "id": "b77aa9d593f80a56"
  },
  {
   "cell_type": "code",
   "execution_count": 317,
   "outputs": [],
   "source": [
    "def generate_next_week_data(data: dict, M: int):\n",
    "    next_week_data = {}\n",
    "\n",
    "    for day, route_data in data.items():\n",
    "        next_week_data[f\"next {day}\"] = {}\n",
    "\n",
    "        for route_ID, cycle_data in route_data.items():\n",
    "            next_week_data[f\"next {day}\"][route_ID] = {}\n",
    "\n",
    "            for N_cycle, stops_data in cycle_data.items():\n",
    "                next_week_data[f\"next {day}\"][route_ID][N_cycle] = {}\n",
    "\n",
    "\n",
    "                for bus_stop_id, _ in stops_data.items():\n",
    "                    total_people = generate_model_outputs(N_cycle, route_ID, day, bus_stop_id, data, M)\n",
    "                    next_week_data[f\"next {day}\"][route_ID][N_cycle][bus_stop_id] = {\n",
    "                        'total': total_people\n",
    "                    }\n",
    "\n",
    "    return next_week_data\n",
    "next_week_data = generate_next_week_data(data = data, M = 3)"
   ],
   "metadata": {
    "collapsed": false,
    "ExecuteTime": {
     "end_time": "2023-10-22T02:37:49.248554200Z",
     "start_time": "2023-10-22T02:37:49.162624Z"
    }
   },
   "id": "410e05d8b1d3b82a"
  },
  {
   "cell_type": "code",
   "execution_count": 318,
   "outputs": [
    {
     "data": {
      "text/plain": "{'next Monday': {'3': {'1': {'1': {'total': 10},\n    '2': {'total': 23},\n    '3': {'total': 33},\n    '4': {'total': 44},\n    '5': {'total': 38},\n    '6': {'total': 15},\n    '7': {'total': 11},\n    '8': {'total': 3},\n    '9': {'total': 1},\n    '10': {'total': 1}},\n   '2': {'1': {'total': 11},\n    '2': {'total': 27},\n    '3': {'total': 42},\n    '4': {'total': 57},\n    '5': {'total': 39},\n    '6': {'total': 12},\n    '7': {'total': 17},\n    '8': {'total': 2},\n    '9': {'total': 2},\n    '10': {'total': 1}}}}}"
     },
     "execution_count": 318,
     "metadata": {},
     "output_type": "execute_result"
    }
   ],
   "source": [
    "next_week_data"
   ],
   "metadata": {
    "collapsed": false,
    "ExecuteTime": {
     "end_time": "2023-10-22T02:37:51.343368500Z",
     "start_time": "2023-10-22T02:37:51.342861200Z"
    }
   },
   "id": "f55e8fc2927c93e4"
  },
  {
   "cell_type": "code",
   "execution_count": 321,
   "outputs": [],
   "source": [
    "with open(\"next_week.json\", \"w\") as f:\n",
    "    json.dump(next_week_data, f, indent=4)"
   ],
   "metadata": {
    "collapsed": false,
    "ExecuteTime": {
     "end_time": "2023-10-22T02:39:42.504913600Z",
     "start_time": "2023-10-22T02:39:42.488961600Z"
    }
   },
   "id": "279baef5baea7b25"
  },
  {
   "cell_type": "code",
   "execution_count": 323,
   "outputs": [
    {
     "data": {
      "text/plain": "<Figure size 1000x600 with 1 Axes>",
      "image/png": "[encoded data removed]"
     },
     "metadata": {},
     "output_type": "display_data"
    }
   ],
   "source": [
    "plot_bus_stop_data(N_cycle='1', route_ID='3', day='Monday', data = data, M = 3)"
   ],
   "metadata": {
    "collapsed": false,
    "ExecuteTime": {
     "end_time": "2023-10-22T09:40:44.441034Z",
     "start_time": "2023-10-22T09:40:44.284298300Z"
    }
   },
   "id": "ca2020c0bcf953ef"
  },
  {
   "cell_type": "code",
   "execution_count": 322,
   "outputs": [
    {
     "data": {
      "text/plain": "<Figure size 1000x600 with 1 Axes>",
      "image/png": "[encoded data removed]"
     },
     "metadata": {},
     "output_type": "display_data"
    }
   ],
   "source": [
    "plot_predicted_bus_stop_data(N_cycle='1', route_ID='3', day='next Monday', data = next_week_data)   "
   ],
   "metadata": {
    "collapsed": false,
    "ExecuteTime": {
     "end_time": "2023-10-22T09:40:38.060395700Z",
     "start_time": "2023-10-22T09:40:37.911702Z"
    }
   },
   "id": "e1628396adc916c2"
  },
  {
   "cell_type": "code",
   "execution_count": 322,
   "outputs": [],
   "source": [],
   "metadata": {
    "collapsed": false,
    "ExecuteTime": {
     "end_time": "2023-10-22T09:40:40.303348800Z",
     "start_time": "2023-10-22T09:40:40.261697800Z"
    }
   },
   "id": "8b0612dc148f387d"
  },
  {
   "cell_type": "code",
   "execution_count": null,
   "outputs": [],
   "source": [],
   "metadata": {
    "collapsed": false
   },
   "id": "524ea4e6a9a1d65a"
  }
 ],
 "metadata": {
  "kernelspec": {
   "display_name": "Python 3",
   "language": "python",
   "name": "python3"
  },
  "language_info": {
   "codemirror_mode": {
    "name": "ipython",
    "version": 2
   },
   "file_extension": ".py",
   "mimetype": "text/x-python",
   "name": "python",
   "nbconvert_exporter": "python",
   "pygments_lexer": "ipython2",
   "version": "2.7.6"
  }
 },
 "nbformat": 4,
 "nbformat_minor": 5
}
